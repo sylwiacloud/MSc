{
  "nbformat": 4,
  "nbformat_minor": 0,
  "metadata": {
    "colab": {
      "provenance": [],
      "include_colab_link": true
    },
    "kernelspec": {
      "name": "python3",
      "display_name": "Python 3"
    },
    "language_info": {
      "name": "python"
    }
  },
  "cells": [
    {
      "cell_type": "markdown",
      "metadata": {
        "id": "view-in-github",
        "colab_type": "text"
      },
      "source": [
        "<a href=\"https://colab.research.google.com/github/sylwiacloud/MSc/blob/main/COMP4008_exercise_sheet_1.ipynb\" target=\"_parent\"><img src=\"https://colab.research.google.com/assets/colab-badge.svg\" alt=\"Open In Colab\"/></a>"
      ]
    },
    {
      "cell_type": "markdown",
      "source": [
        "**Week 1 Part 1: Preliminary Exercises on Lists and Variables**\n",
        "\n",
        "Here are some introductory exercises on lists and variables.\n",
        "\n",
        "To complete each task, you should fill in the code block that begin with a # symbol, replacing the text that is there with your code. Once you have completed the code, either click the \"play\" symbol to the left of the block, or press shift-return on your keyboard. If there is output from that piece of code, it will then display in a new block underneath the code.\n",
        "\n",
        "The tasks use similar ideas to those demonstrated at the beginning of the class, so think back to that if you need ideas and inspiration. The code and slides from that introductory part of the class are available on Moodle."
      ],
      "metadata": {
        "id": "8DiBzdxqn0Sz"
      }
    },
    {
      "cell_type": "markdown",
      "source": [
        "The following block creates a list of three names"
      ],
      "metadata": {
        "id": "YzOdyWc1n2jE"
      }
    },
    {
      "cell_type": "code",
      "execution_count": 1,
      "metadata": {
        "id": "YnzsZIc1nJMn"
      },
      "outputs": [],
      "source": [
        "listOfNames = [\"Kermit the Frog\", \"Fozzie Bear\", \"Beaker\", \"Animal\"]"
      ]
    },
    {
      "cell_type": "markdown",
      "source": [
        "In the next block, write two lines of code, to append the name \"Miss Piggy\" to the list, then to display the list"
      ],
      "metadata": {
        "id": "Me2g1h5eoJAt"
      }
    },
    {
      "cell_type": "code",
      "source": [
        "listOfNames.append(\"Miss Piggy\")\n",
        "listOfNames"
      ],
      "metadata": {
        "id": "IqnyQ68woS1U",
        "colab": {
          "base_uri": "https://localhost:8080/"
        },
        "outputId": "0cedfb5a-0fc9-40d3-815e-6717ead2e23a"
      },
      "execution_count": 2,
      "outputs": [
        {
          "output_type": "execute_result",
          "data": {
            "text/plain": [
              "['Kermit the Frog', 'Fozzie Bear', 'Beaker', 'Animal', 'Miss Piggy']"
            ]
          },
          "metadata": {},
          "execution_count": 2
        }
      ]
    },
    {
      "cell_type": "markdown",
      "source": [
        "The next block contains a definition, *addStudent*, of a function that takes the name of a list, a piece of text containing the student's name, and a number that is their mark in their Maths module, and adds a new item to the list containing those three pieces of information. You do not have to do anything to the code in the next block."
      ],
      "metadata": {
        "id": "N3UxbZphqfZ7"
      }
    },
    {
      "cell_type": "code",
      "source": [
        "def addStudent(listOfStudents, studentName, maths):\n",
        "  listOfStudents.append([studentName,maths])"
      ],
      "metadata": {
        "id": "UVKVktjPqeMD"
      },
      "execution_count": 3,
      "outputs": []
    },
    {
      "cell_type": "markdown",
      "source": [
        "In the next block, make a copy of *addStudent* from above and modify it so that in addition to the student's name and maths mark, it also records the student's hall of residence (a string of text), and numbers that represent the student's marks in English and in Programming."
      ],
      "metadata": {
        "id": "gz2Hora_vY_2"
      }
    },
    {
      "cell_type": "code",
      "source": [
        "def addStudent(listOfStudents, studentName, halls, maths, english, programming):\n",
        "  listOfStudents.append([studentName, halls, maths, english, programming])"
      ],
      "metadata": {
        "id": "JqorqcLwqeJk"
      },
      "execution_count": 4,
      "outputs": []
    },
    {
      "cell_type": "markdown",
      "source": [
        "In the next block, write five lines of code that (1) creates an empty list called *studentRecords* and (2) uses the newly defined *addStudent* function to add the following students to *studentRecords*.\n",
        "\n",
        "| Name              | Residence          | Maths | English | Programming |\n",
        "|-------------------|--------------------|-------|---------|-------------|\n",
        "| Kermit the Frog   | Sherwood Hall      | 65    | 78      | 52          |\n",
        "| Fozzie Bear       | Newark Hall        | 48    | 45      | 42          |\n",
        "| Animal            | Sherwood Hall      | 35    | 68      | 48          |\n",
        "| Miss Piggy        | Melton Hall        | 78    | 75      | 85          |"
      ],
      "metadata": {
        "id": "dtZQVLwvv1sK"
      }
    },
    {
      "cell_type": "code",
      "source": [
        "studentRecords = []\n",
        "addStudent(studentRecords, \"Kermit the Frog\", \"Sherwood Hall\", 65, 78, 52)\n",
        "addStudent(studentRecords, \"Fozzie Bear\", \"Newark Hall\", 45, 45, 42)\n",
        "addStudent(studentRecords, \"Animal\", \"Sherwood Hall\", 35, 68, 48)\n",
        "addStudent(studentRecords, \"Miss Piggy\", \"Melton Hall\", 78, 75, 85)"
      ],
      "metadata": {
        "id": "LSWz9IKNqeG8"
      },
      "execution_count": 15,
      "outputs": []
    },
    {
      "cell_type": "markdown",
      "source": [
        "In the next block, write a line of code that lists just the students who have a mark of 50 or over in Maths"
      ],
      "metadata": {
        "id": "N_GnyJ04xgSJ"
      }
    },
    {
      "cell_type": "code",
      "source": [
        "for student in studentRecords:\n",
        "  if student[2] > 50:\n",
        "    print(student[0])"
      ],
      "metadata": {
        "id": "omQnILlhqeEd",
        "colab": {
          "base_uri": "https://localhost:8080/"
        },
        "outputId": "1a52d0bf-61fd-4386-9b21-2ea4de640388"
      },
      "execution_count": 21,
      "outputs": [
        {
          "output_type": "stream",
          "name": "stdout",
          "text": [
            "['Kermit the Frog', 'Sherwood Hall', 65, 78, 52]\n",
            "Kermit the Frog\n",
            "['Fozzie Bear', 'Newark Hall', 45, 45, 42]\n",
            "['Animal', 'Sherwood Hall', 35, 68, 48]\n",
            "['Miss Piggy', 'Melton Hall', 78, 75, 85]\n",
            "Miss Piggy\n"
          ]
        }
      ]
    },
    {
      "cell_type": "code",
      "source": [
        "[ print(student[0]) for student in studentRecords if student[2] > 50 ]"
      ],
      "metadata": {
        "id": "LJALS-yrc1Mz",
        "outputId": "89bb78cc-3ef9-443f-ebaa-38d9118df1aa",
        "colab": {
          "base_uri": "https://localhost:8080/"
        }
      },
      "execution_count": 80,
      "outputs": [
        {
          "output_type": "stream",
          "name": "stdout",
          "text": [
            "Kermit the Frog\n",
            "Miss Piggy\n",
            "Kermit the Frog\n",
            "Jeremy\n",
            "Test1\n",
            "Test1\n",
            "Test1\n",
            "TestN\n"
          ]
        },
        {
          "output_type": "execute_result",
          "data": {
            "text/plain": [
              "[None, None, None, None, None, None, None, None]"
            ]
          },
          "metadata": {},
          "execution_count": 80
        }
      ]
    },
    {
      "cell_type": "markdown",
      "source": [
        "In the next block, write a line of code that lists all the students who have a mark under 50 in all of Maths, English and Programming."
      ],
      "metadata": {
        "id": "EIfm8_vryfkg"
      }
    },
    {
      "cell_type": "code",
      "source": [
        "for record in studentRecords:\n",
        "  student = record[0]\n",
        "  maths = record[2]\n",
        "  english = record[3]\n",
        "  programming = record[4]\n",
        "  if maths < 50 and english < 50 and programming < 50:\n",
        "    print(student)"
      ],
      "metadata": {
        "id": "BufkinZzqeB_",
        "colab": {
          "base_uri": "https://localhost:8080/"
        },
        "outputId": "9f7c01f8-32a0-474c-f274-f81b60e93646"
      },
      "execution_count": 24,
      "outputs": [
        {
          "output_type": "stream",
          "name": "stdout",
          "text": [
            "Fozzie Bear\n"
          ]
        }
      ]
    },
    {
      "cell_type": "markdown",
      "source": [
        "**Week 1 Part 2: More Exercises about Decision Making**\n",
        "\n",
        "Here are some more tasks that use the \"if\" statement to enable the computer to make decisions."
      ],
      "metadata": {
        "id": "8od5lsgXHpI_"
      }
    },
    {
      "cell_type": "markdown",
      "source": [
        "The code in the next block prints \"winner\" if the score is greater than 50. Modify it so that it prints \"winner\" if the score is greater than 60."
      ],
      "metadata": {
        "id": "K35I0OBTIB85"
      }
    },
    {
      "cell_type": "code",
      "source": [
        "def winner(score):\n",
        "  if score>60:\n",
        "    print(\"winner\")\n",
        "  else:\n",
        "    print(\"loser\")"
      ],
      "metadata": {
        "id": "v1hBgqrQIDZy"
      },
      "execution_count": 26,
      "outputs": []
    },
    {
      "cell_type": "markdown",
      "source": [
        "The next block uses the *winner* function with various different inputs so that you can check if it is working correctly. There is no need to modify the next block."
      ],
      "metadata": {
        "id": "fNsPw_l5IO13"
      }
    },
    {
      "cell_type": "code",
      "source": [
        "print(\"should say loser\"); winner(20);\n",
        "print(\"should say loser\"); winner(52);\n",
        "print(\"should say loser\"); winner(50);\n",
        "print(\"should say winner\"); winner(62);\n",
        "print(\"should say loser\"); winner(60)"
      ],
      "metadata": {
        "id": "mjIeIToLISuz",
        "colab": {
          "base_uri": "https://localhost:8080/"
        },
        "outputId": "6db1096f-307d-40e5-86e7-d4e684b3a1b1"
      },
      "execution_count": 27,
      "outputs": [
        {
          "output_type": "stream",
          "name": "stdout",
          "text": [
            "should say loser\n",
            "loser\n",
            "should say loser\n",
            "loser\n",
            "should say loser\n",
            "loser\n",
            "should say winner\n",
            "winner\n",
            "should say loser\n",
            "loser\n"
          ]
        }
      ]
    },
    {
      "cell_type": "markdown",
      "source": [
        "In the next block, define a function *passed* that takes in a student's mark, and prints \"pass\" if the mark is greater than or equal to 50, otherwise prints \"fail\"."
      ],
      "metadata": {
        "id": "UsmEGLXYIm6Q"
      }
    },
    {
      "cell_type": "code",
      "source": [
        "def hasPassed(mark):\n",
        "  if mark >= 50:\n",
        "    print(\"pass\")\n",
        "  else:\n",
        "    print(\"fail\")"
      ],
      "metadata": {
        "id": "1va9dg87Ipi1"
      },
      "execution_count": 29,
      "outputs": []
    },
    {
      "cell_type": "markdown",
      "source": [
        "In the next block, write a few lines that use the function passed with some different inputs (e.g. 43, 67, 50) and check that you get the expected outputs"
      ],
      "metadata": {
        "id": "lDKZztXVIsPU"
      }
    },
    {
      "cell_type": "code",
      "source": [
        "hasPassed(43)\n",
        "hasPassed(67)\n",
        "hasPassed(50)"
      ],
      "metadata": {
        "id": "pkKybZq3Ivw_",
        "colab": {
          "base_uri": "https://localhost:8080/"
        },
        "outputId": "dae32e0b-fe23-41a1-9041-b5cae501eb10"
      },
      "execution_count": 30,
      "outputs": [
        {
          "output_type": "stream",
          "name": "stdout",
          "text": [
            "fail\n",
            "pass\n",
            "pass\n"
          ]
        }
      ]
    },
    {
      "cell_type": "markdown",
      "source": [
        "Write a function passedBoth that inputs two marks, and prints \"pass\" if both marks are greater than or equal to 50, otherwise prints \"fail\". The most concise way to do involves using the word and (see the summary slides for details of how this works)."
      ],
      "metadata": {
        "id": "pu_L_eawIyKd"
      }
    },
    {
      "cell_type": "code",
      "source": [
        "def passedBoth(mark1, mark2):\n",
        "  if mark1 >=50 and mark2 >= 50:\n",
        "    print(\"pass\")\n",
        "  else:\n",
        "    print(\"fail\")"
      ],
      "metadata": {
        "id": "yLeaAJxZIxuJ"
      },
      "execution_count": 31,
      "outputs": []
    },
    {
      "cell_type": "markdown",
      "source": [
        "In the next block, write some examples of using that function with different inputs to check whether it works."
      ],
      "metadata": {
        "id": "fOFE2O7VI47a"
      }
    },
    {
      "cell_type": "code",
      "source": [
        "passedBoth(60,70)\n",
        "passedBoth(55,47)\n",
        "passedBoth(34,46)"
      ],
      "metadata": {
        "id": "MbAE8TcRI59H",
        "colab": {
          "base_uri": "https://localhost:8080/"
        },
        "outputId": "0ea3a826-cac1-4599-fa4f-4b822a9a1947"
      },
      "execution_count": 32,
      "outputs": [
        {
          "output_type": "stream",
          "name": "stdout",
          "text": [
            "pass\n",
            "fail\n",
            "fail\n"
          ]
        }
      ]
    },
    {
      "cell_type": "markdown",
      "source": [
        "The next block prints the text \"University Park\", \"Jubilee\" or \"Sutton Bonington\" based on the name of the student residence given as input. Note the use of elif (short for \"else if\") to create three different conditions. Modify the code so that it also checks for the word \"Nottingham Two\" and replies with \"Jubilee\". Modify it so that it says \"not known\" if hallName doesn't match any of the names."
      ],
      "metadata": {
        "id": "dSvlJuX3I7rv"
      }
    },
    {
      "cell_type": "code",
      "source": [
        "def findHallLocation(hallName):\n",
        "  if hallName==\"Sherwood\" or hallName==\"Melton\" or hallName==\"Nottingham Two\":\n",
        "    print(\"Jubilee\")\n",
        "  elif hallName==\"Nightingale\" or hallName==\"Lenton\" or hallName==\"Ancaster\":\n",
        "    print(\"University Park\")\n",
        "  elif hallName==\"Bonington Village\":\n",
        "    print(\"Sutton Bonington\")\n",
        "  else:\n",
        "    print(\"not known\")"
      ],
      "metadata": {
        "id": "gJ79-Pw7I_SO"
      },
      "execution_count": 33,
      "outputs": []
    },
    {
      "cell_type": "markdown",
      "source": [
        "In the next block, write some examples of using that function with different inputs to check whether it works."
      ],
      "metadata": {
        "id": "ylAbRBh7JB5-"
      }
    },
    {
      "cell_type": "code",
      "source": [
        "findHallLocation(\"Sherwood\")\n",
        "findHallLocation(\"Nottingham Two\")\n",
        "findHallLocation(\"Lenton\")\n",
        "findHallLocation(\"Derby\")"
      ],
      "metadata": {
        "id": "bzbSk9yeJFRh",
        "colab": {
          "base_uri": "https://localhost:8080/"
        },
        "outputId": "154fb0b8-c74d-475b-e253-98a4e54bdc6f"
      },
      "execution_count": 34,
      "outputs": [
        {
          "output_type": "stream",
          "name": "stdout",
          "text": [
            "Jubilee\n",
            "Jubilee\n",
            "University Park\n",
            "not known\n"
          ]
        }
      ]
    },
    {
      "cell_type": "markdown",
      "source": [
        "A person is eligible for a main award if they get a score of over 80. Otherwise, if they have a score of over 70 and are under 18, they are eligible for a young person's award. Otherwise, they get no award. In the next block, define a function passed that inputs the score, and prints the correct award. Hint: you may find the elif: command useful - see the reference material to see how this works."
      ],
      "metadata": {
        "id": "OANVIFAUJFFM"
      }
    },
    {
      "cell_type": "code",
      "source": [
        "def whatAward(age, score):\n",
        "  if score >= 80:\n",
        "    print(\"Main award\")\n",
        "  elif score >= 70 and age < 18:\n",
        "    print(\"young person's award\")\n",
        "  else:\n",
        "    print(\"No award :(\")"
      ],
      "metadata": {
        "id": "EPU05u9LJMZZ"
      },
      "execution_count": 35,
      "outputs": []
    },
    {
      "cell_type": "markdown",
      "source": [
        "In the next block, write some examples of using that function with different inputs to check whether it works."
      ],
      "metadata": {
        "id": "TNKPzljPJETw"
      }
    },
    {
      "cell_type": "code",
      "source": [
        "whatAward(25, 95)\n",
        "whatAward(23, 72)\n",
        "whatAward(17, 56)\n",
        "whatAward(16, 73)"
      ],
      "metadata": {
        "id": "dqLFTITcJQmZ",
        "colab": {
          "base_uri": "https://localhost:8080/"
        },
        "outputId": "a9945134-4f85-47fd-a7dd-a5f8d1d0bc73"
      },
      "execution_count": 36,
      "outputs": [
        {
          "output_type": "stream",
          "name": "stdout",
          "text": [
            "Main award\n",
            "No award :(\n",
            "No award :(\n",
            "young person's award\n"
          ]
        }
      ]
    },
    {
      "cell_type": "markdown",
      "source": [
        "In the next block, write a definition *NPCDecision* that takes in three pieces of information: numbers called *distance* and *health*, and a string of text called *threat*.\n",
        "\n",
        "* if distance is close (under 20) and health is good (50 or over) or the threat is severe, the function outputs (using the *return* statement) the text \"attack\"\n",
        "* of distance is fairly close (under 30) and health is low (under 20), the function outputs (using the *return* statement) the text \"retreat\"\n",
        "* otherwise, the function outputs (using the *return* statement) the text \"stay put\"\n",
        "\n",
        "You will need to use a combination of *and* and *or* in your definition."
      ],
      "metadata": {
        "id": "_8L0wdXzJSmu"
      }
    },
    {
      "cell_type": "code",
      "source": [
        "def NPCDecision(distance, health, threat):\n",
        "  if ( distance < 20 and health >= 50 ) or threat == \"Severe\":\n",
        "    return \"attack\"\n",
        "  elif distance < 30 and health < 20:\n",
        "    return \"retreat\"\n",
        "  else:\n",
        "    return \"stay put\""
      ],
      "metadata": {
        "id": "IrR6y087JV-X"
      },
      "execution_count": 37,
      "outputs": []
    },
    {
      "cell_type": "markdown",
      "source": [
        "In the next block, write some examples of using that function with different inputs to check whether it works. You will need to use *print* to access the output produced by the *return*: e.g. print(NPCDecision(10,80,\"moderate\"))"
      ],
      "metadata": {
        "id": "eE49NJCjJbeg"
      }
    },
    {
      "cell_type": "code",
      "source": [
        "print(NPCDecision(50, 50, \"None\"))\n",
        "print(NPCDecision(10, 30, \"None\"))\n",
        "print(NPCDecision(100,100, \"Severe\"))\n",
        "print(NPCDecision(20,15,\"None\"))"
      ],
      "metadata": {
        "id": "huRx9SM_JbFa",
        "colab": {
          "base_uri": "https://localhost:8080/"
        },
        "outputId": "e33fc87f-2d47-4a4d-d1fd-07f772ded615"
      },
      "execution_count": 39,
      "outputs": [
        {
          "output_type": "stream",
          "name": "stdout",
          "text": [
            "stay put\n",
            "stay put\n",
            "attack\n",
            "retreat\n"
          ]
        }
      ]
    },
    {
      "cell_type": "markdown",
      "source": [
        "Write a definition *permittedToEnter* that takes a number that is a person's age, and a text string *status*. It prints \"entry permitted\" if the person is over 18, and their *status* is not banned. You will need to use the Python keyword *not* or the *!=* (not equal to) symbol."
      ],
      "metadata": {
        "id": "XzxuZhtiJiM0"
      }
    },
    {
      "cell_type": "code",
      "source": [
        "def permittedToEnter(age, status = \"allowed\"):\n",
        "  if age >= 18 and status != \"banned\":\n",
        "    print(\"entry permitted\")\n",
        "  else:\n",
        "    print(\"entry denied\")"
      ],
      "metadata": {
        "id": "wPIyVC6TJh_U"
      },
      "execution_count": 42,
      "outputs": []
    },
    {
      "cell_type": "code",
      "source": [
        "permittedToEnter(30)\n",
        "permittedToEnter(18)\n",
        "permittedToEnter(30, \"banned\")"
      ],
      "metadata": {
        "id": "smvKi0hRpkcl",
        "outputId": "84efe1a2-90d5-4505-e011-c99cb9fdaa84",
        "colab": {
          "base_uri": "https://localhost:8080/"
        }
      },
      "execution_count": 44,
      "outputs": [
        {
          "output_type": "stream",
          "name": "stdout",
          "text": [
            "entry permitted\n",
            "entry permitted\n",
            "entry denied\n"
          ]
        }
      ]
    },
    {
      "cell_type": "markdown",
      "source": [
        "(more complicated) For example, you must be under 21 to be eligible to get a youth prize (a certificate or medal) in the sports competition. If you win 10 or more games, you get a medal, otherwise you get a certificate. Write a definition that decides who gets one of these youth awards, and some code to test it."
      ],
      "metadata": {
        "id": "6X3hcJC6Jltn"
      }
    },
    {
      "cell_type": "code",
      "source": [
        "def youthAward(age, gamesWon):\n",
        "  if age < 21:\n",
        "    if gamesWon >= 10:\n",
        "      print(\"Youth medal\")\n",
        "    else:\n",
        "      print(\"Youth certificate\")\n",
        "  else:\n",
        "    if gamesWon >= 10:\n",
        "      print(\"Adult medal\")\n",
        "    else:\n",
        "      print(\"Adult certificate\")\n",
        ""
      ],
      "metadata": {
        "id": "XWSgPs1iJhWg"
      },
      "execution_count": 45,
      "outputs": []
    },
    {
      "cell_type": "code",
      "source": [
        "youthAward(30,15)\n",
        "youthAward(18, 5)\n",
        "youthAward(45, 8)\n",
        "youthAward(12, 30)"
      ],
      "metadata": {
        "id": "mdGWIqSzqdKX",
        "outputId": "d0160316-b817-4568-cb67-6b0cc499c6b4",
        "colab": {
          "base_uri": "https://localhost:8080/"
        }
      },
      "execution_count": 46,
      "outputs": [
        {
          "output_type": "stream",
          "name": "stdout",
          "text": [
            "Adult medal\n",
            "Youth certificate\n",
            "Adult certificate\n",
            "Youth medal\n"
          ]
        }
      ]
    },
    {
      "cell_type": "markdown",
      "source": [
        "**Week 1 Part 3: Additional Tasks**\n",
        "\n",
        "If you have completed the above tasks, here are some additional tasks for you to do, based on the exercises in Part 1 above, in order to extend your knowledge and practice more.\n"
      ],
      "metadata": {
        "id": "7Laks9Yr2Rgd"
      }
    },
    {
      "cell_type": "markdown",
      "source": [
        "In the next block, write a line of code that lists all the students who have a mark under 50 in one or more of Maths, English and Programming. You will need to use the word *or* where you used *and* in the previous block."
      ],
      "metadata": {
        "id": "rU8mdc-6zRw7"
      }
    },
    {
      "cell_type": "code",
      "source": [
        "for record in studentRecords:\n",
        "  student = record[0]\n",
        "  maths = record[2]\n",
        "  english = record[3]\n",
        "  programming = record[4]\n",
        "  if maths < 50 or english < 50 or programming < 50:\n",
        "    print(student)"
      ],
      "metadata": {
        "id": "StrvSFwQqd_A",
        "colab": {
          "base_uri": "https://localhost:8080/"
        },
        "outputId": "bbbfd3ad-2048-4851-be53-002acb4191b3"
      },
      "execution_count": 47,
      "outputs": [
        {
          "output_type": "stream",
          "name": "stdout",
          "text": [
            "Fozzie Bear\n",
            "Animal\n"
          ]
        }
      ]
    },
    {
      "cell_type": "markdown",
      "source": [
        "In the next block, write a new version of *addStudent* that checks (1) if any of the marks are below 0 or over 100, and (2) that the residence is one of \"Sherwood Hall\", \"Newark Hall\", or \"Melton Hall\". If any of these conditions are not satisfied, print an error message and don't add the student to the list."
      ],
      "metadata": {
        "id": "8Lq0-vcDzotZ"
      }
    },
    {
      "cell_type": "code",
      "source": [
        "def addStudent(listOfStudents, studentName, halls, maths, english, programming):\n",
        "  listOfMarks = []\n",
        "  listOfMarks.extend([maths, english, programming])\n",
        "  markStatus = \"Ok\"\n",
        "  for mark in listOfMarks:\n",
        "    if markStatus == \"Error\":\n",
        "      markStatus == \"Error\"\n",
        "    elif mark < 0 or mark > 100:\n",
        "      markStatus = \"Error\"\n",
        "  if markStatus != \"Ok\":\n",
        "    print(\"There has been an input error. Marks not between 0 and 100.\")\n",
        "  elif (halls not in [\"Sherwood Hall\", \"Newark Hall\", \"Melton Hall\"]):\n",
        "    print(\"There has been an input error. Check the halls.\")\n",
        "  else:\n",
        "    listOfStudents.append([studentName, halls, maths, english, programming])"
      ],
      "metadata": {
        "id": "3CFcrkJ7qd6m"
      },
      "execution_count": 64,
      "outputs": []
    },
    {
      "cell_type": "markdown",
      "source": [
        "In the next block, write code that uses *addStudent* to create a number of examples that tests whether the new version of *addStudent* is working - that is, you should provide a variety of examples, including examples that satisfy the checks, ones with marks below 0 and/or above 100, ones with multiple marks below/above 0/100, ones with a different/mis-spelled residence name, ones where students have scored exactly 0 or 100 (these are called \"edge cases\")."
      ],
      "metadata": {
        "id": "uTJ3e3To4cjR"
      }
    },
    {
      "cell_type": "code",
      "source": [
        "addStudent(studentRecords, \"Kermit the Frog\", \"Sherwood Hall\", 65, 78, 52)"
      ],
      "metadata": {
        "id": "NrCyge0mreBF"
      },
      "execution_count": 57,
      "outputs": []
    },
    {
      "cell_type": "code",
      "source": [
        "addStudent(studentRecords, \"Sesame Bun\", \"Newark Hall\", 0, 5, 10)"
      ],
      "metadata": {
        "id": "xQnejhkgQUJ3"
      },
      "execution_count": 59,
      "outputs": []
    },
    {
      "cell_type": "code",
      "source": [
        "addStudent(studentRecords, \"Jeremy\", \"Melton Hall\", 100, 67, 80)"
      ],
      "metadata": {
        "id": "H99pgX1ztlzo"
      },
      "execution_count": 60,
      "outputs": []
    },
    {
      "cell_type": "code",
      "source": [
        "addStudent(studentRecords, \"Arnold\", \"Sherwood\", 65, 78, 52)"
      ],
      "metadata": {
        "id": "B1AAnG2Ctr-8",
        "outputId": "2994d799-f3e3-4736-b650-ab12d7ade798",
        "colab": {
          "base_uri": "https://localhost:8080/"
        }
      },
      "execution_count": 61,
      "outputs": [
        {
          "output_type": "stream",
          "name": "stdout",
          "text": [
            "There has been an input error. Check marks and halls.\n"
          ]
        }
      ]
    },
    {
      "cell_type": "code",
      "source": [
        "studentRecords"
      ],
      "metadata": {
        "id": "4fK596T-twOX",
        "outputId": "0e43e36c-031f-4fac-ee25-e62e5f91e587",
        "colab": {
          "base_uri": "https://localhost:8080/"
        }
      },
      "execution_count": 62,
      "outputs": [
        {
          "output_type": "execute_result",
          "data": {
            "text/plain": [
              "[['Kermit the Frog', 'Sherwood Hall', 65, 78, 52],\n",
              " ['Fozzie Bear', 'Newark Hall', 45, 45, 42],\n",
              " ['Animal', 'Sherwood Hall', 35, 68, 48],\n",
              " ['Miss Piggy', 'Melton Hall', 78, 75, 85],\n",
              " ['Kermit the Frog', 'Sherwood Hall', 65, 78, 52],\n",
              " ['Sesame Bun', 'Newark Hall', 0, 5, 10],\n",
              " ['Jeremy', 'Melton Hall', 100, 67, 80]]"
            ]
          },
          "metadata": {},
          "execution_count": 62
        }
      ]
    },
    {
      "cell_type": "code",
      "source": [
        "addStudent(studentRecords, \"Arnold\", \"Sherwood Hall\", 65, 78, 152)"
      ],
      "metadata": {
        "id": "9Pb8aV-_uGcp",
        "outputId": "c58bb773-f871-44f7-bd09-f655424f33c2",
        "colab": {
          "base_uri": "https://localhost:8080/"
        }
      },
      "execution_count": 65,
      "outputs": [
        {
          "output_type": "stream",
          "name": "stdout",
          "text": [
            "There has been an input error. Marks not between 0 and 100.\n"
          ]
        }
      ]
    },
    {
      "cell_type": "markdown",
      "source": [
        "(difficult) In the next block, write code that displays each student and the average of their marks across the three modules"
      ],
      "metadata": {
        "id": "85bvw9MvQSvJ"
      }
    },
    {
      "cell_type": "code",
      "source": [
        "import numpy as np"
      ],
      "metadata": {
        "id": "f3crD6EIumps"
      },
      "execution_count": 66,
      "outputs": []
    },
    {
      "cell_type": "code",
      "source": [
        "for record in studentRecords:\n",
        "  student = record[0]\n",
        "  maths = record[2]\n",
        "  english = record[3]\n",
        "  programming = record[4]\n",
        "  listOfMarks = []\n",
        "  listOfMarks.extend([maths, english, programming])\n",
        "  averageMark = np.round(np.mean(listOfMarks), 1)\n",
        "  print(f\"{student} has received an average mark of {averageMark} across the maths, english and programming modules.\")\n"
      ],
      "metadata": {
        "id": "n1IrwYTjQVZd",
        "colab": {
          "base_uri": "https://localhost:8080/"
        },
        "outputId": "6a5adafb-861b-4d53-8c51-a3eadbe0fe51"
      },
      "execution_count": 69,
      "outputs": [
        {
          "output_type": "stream",
          "name": "stdout",
          "text": [
            "Kermit the Frog has received an average mark of 65.0 across the maths, english and programming modules.\n",
            "Fozzie Bear has received an average mark of 44.0 across the maths, english and programming modules.\n",
            "Animal has received an average mark of 50.3 across the maths, english and programming modules.\n",
            "Miss Piggy has received an average mark of 79.3 across the maths, english and programming modules.\n",
            "Kermit the Frog has received an average mark of 65.0 across the maths, english and programming modules.\n",
            "Sesame Bun has received an average mark of 5.0 across the maths, english and programming modules.\n",
            "Jeremy has received an average mark of 82.3 across the maths, english and programming modules.\n"
          ]
        }
      ]
    },
    {
      "cell_type": "markdown",
      "source": [
        "(complicated and long) rewrite *addStudent* so that it works with students taking an arbitrary number of modules, not just the three. Also rewrite the averaging method from the previous block so that it works with this version."
      ],
      "metadata": {
        "id": "GF0oaXSjR3gV"
      }
    },
    {
      "cell_type": "code",
      "source": [
        "def addStudent(listOfStudents, studentName, halls, *marks):\n",
        "  listOfMarks = []\n",
        "  for mark in marks:\n",
        "    listOfMarks.append(mark)\n",
        "  markStatus = \"Ok\"\n",
        "  for mark in listOfMarks:\n",
        "    if markStatus == \"Error\":\n",
        "      markStatus == \"Error\"\n",
        "    elif mark < 0 or mark > 100:\n",
        "      markStatus = \"Error\"\n",
        "  if markStatus != \"Ok\":\n",
        "    print(\"There has been an input error. Marks not between 0 and 100.\")\n",
        "  elif (halls not in [\"Sherwood Hall\", \"Newark Hall\", \"Melton Hall\"]):\n",
        "    print(\"There has been an input error. Check the halls.\")\n",
        "  else:\n",
        "    listOfStudents.append([studentName, halls, *marks])"
      ],
      "metadata": {
        "id": "Qq0cXeN8SP4a"
      },
      "execution_count": 76,
      "outputs": []
    },
    {
      "cell_type": "code",
      "source": [
        "addStudent(studentRecords, \"TestN\", \"Sherwood Hall\", 99, 40, 32, 78, 67)\n",
        "studentRecords"
      ],
      "metadata": {
        "id": "Mg_Lt-JXv4V6",
        "outputId": "74f277fc-8756-4ab0-cae9-4f1a25508b04",
        "colab": {
          "base_uri": "https://localhost:8080/"
        }
      },
      "execution_count": 75,
      "outputs": [
        {
          "output_type": "execute_result",
          "data": {
            "text/plain": [
              "[['Kermit the Frog', 'Sherwood Hall', 65, 78, 52],\n",
              " ['Fozzie Bear', 'Newark Hall', 45, 45, 42],\n",
              " ['Animal', 'Sherwood Hall', 35, 68, 48],\n",
              " ['Miss Piggy', 'Melton Hall', 78, 75, 85],\n",
              " ['Kermit the Frog', 'Sherwood Hall', 65, 78, 52],\n",
              " ['Sesame Bun', 'Newark Hall', 0, 5, 10],\n",
              " ['Jeremy', 'Melton Hall', 100, 67, 80],\n",
              " ['Test1', 'Sherwood Hall', 100, 67, 80],\n",
              " ['Test1', 'Sherwood Hall', 100, 67, 80],\n",
              " ['Test1', 'Sherwood Hall', 99, 40],\n",
              " ['TestN', 'Sherwood Hall', 99, 40, 32, 78, 67]]"
            ]
          },
          "metadata": {},
          "execution_count": 75
        }
      ]
    },
    {
      "cell_type": "code",
      "source": [
        "for record in studentRecords:\n",
        "  student = record[0]\n",
        "  marks = record[2:]\n",
        "  listOfMarks = []\n",
        "  listOfMarks.extend(marks)\n",
        "  averageMark = np.round(np.mean(listOfMarks), 1)\n",
        "  print(f\"{student} has received an average mark of {averageMark} across all modules.\")"
      ],
      "metadata": {
        "id": "Fcl4C3sswYdz",
        "outputId": "2adcc231-b08c-4270-917f-06b9bd875b54",
        "colab": {
          "base_uri": "https://localhost:8080/"
        }
      },
      "execution_count": 78,
      "outputs": [
        {
          "output_type": "stream",
          "name": "stdout",
          "text": [
            "Kermit the Frog has received an average mark of 65.0 across all modules.\n",
            "Fozzie Bear has received an average mark of 44.0 across all modules.\n",
            "Animal has received an average mark of 50.3 across all modules.\n",
            "Miss Piggy has received an average mark of 79.3 across all modules.\n",
            "Kermit the Frog has received an average mark of 65.0 across all modules.\n",
            "Sesame Bun has received an average mark of 5.0 across all modules.\n",
            "Jeremy has received an average mark of 82.3 across all modules.\n",
            "Test1 has received an average mark of 82.3 across all modules.\n",
            "Test1 has received an average mark of 82.3 across all modules.\n",
            "Test1 has received an average mark of 69.5 across all modules.\n",
            "TestN has received an average mark of 63.2 across all modules.\n"
          ]
        }
      ]
    }
  ]
}