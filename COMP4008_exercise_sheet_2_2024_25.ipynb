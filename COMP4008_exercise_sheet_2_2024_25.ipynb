{
  "nbformat": 4,
  "nbformat_minor": 0,
  "metadata": {
    "colab": {
      "provenance": [],
      "include_colab_link": true
    },
    "kernelspec": {
      "name": "python3",
      "display_name": "Python 3"
    },
    "language_info": {
      "name": "python"
    }
  },
  "cells": [
    {
      "cell_type": "markdown",
      "metadata": {
        "id": "view-in-github",
        "colab_type": "text"
      },
      "source": [
        "<a href=\"https://colab.research.google.com/github/sylwiacloud/MSc/blob/main/COMP4008_exercise_sheet_2_2024_25.ipynb\" target=\"_parent\"><img src=\"https://colab.research.google.com/assets/colab-badge.svg\" alt=\"Open In Colab\"/></a>"
      ]
    },
    {
      "cell_type": "markdown",
      "source": [
        "### Lab 2 Part 1: Revising Decision Making using *if* Statements\n",
        "\n",
        "These exercises should be straightforward if you understood last week's work. If you are very confident with last week's exercises, you can skip to Part 2."
      ],
      "metadata": {
        "id": "Xnw1lLDvO_CD"
      }
    },
    {
      "cell_type": "markdown",
      "source": [
        "**Simple Preliminary Exercise**. In the next block, write a function retired(age) which takes as input a number, called age, and prints the phrase \"eligible to retire\" if the age is over 67, otherwise prints the phrase \"pre-retirement\"."
      ],
      "metadata": {
        "id": "OH6onEeQPVGi"
      }
    },
    {
      "cell_type": "code",
      "source": [
        "# write your function here"
      ],
      "metadata": {
        "id": "kCS-UV1bPNZX"
      },
      "execution_count": null,
      "outputs": []
    },
    {
      "cell_type": "markdown",
      "source": [
        "If your function is working correctly, the following block should output:\\\n",
        "eligible to retire\\\n",
        "pre-retirement\\\n",
        "pre-retirement"
      ],
      "metadata": {
        "id": "OZLqzQTlPb0C"
      }
    },
    {
      "cell_type": "code",
      "source": [
        "retired(72)\n",
        "retired(67)\n",
        "retired(49)"
      ],
      "metadata": {
        "id": "NVXlKQeCPhQF"
      },
      "execution_count": null,
      "outputs": []
    },
    {
      "cell_type": "markdown",
      "source": [
        "**Basic Decision Making.** Have a look at the following function, which returns True if a person is 18 or over and has a \"regular\" membership card, and False otherwise."
      ],
      "metadata": {
        "id": "qpNbby8VPjjF"
      }
    },
    {
      "cell_type": "code",
      "source": [
        "def allowedToEnter(age,cardType):\n",
        "    if age>=18 and cardType==\"regular\":\n",
        "        return True\n",
        "    else:\n",
        "        return False"
      ],
      "metadata": {
        "id": "hzQd2Ap7PnUb"
      },
      "execution_count": null,
      "outputs": []
    },
    {
      "cell_type": "markdown",
      "source": [
        "Run the following tests for this, and check that the answers it gives\n",
        "are consistent with the description:"
      ],
      "metadata": {
        "id": "ACaXAJxJQPTo"
      }
    },
    {
      "cell_type": "code",
      "source": [
        "print(allowedToEnter(21,\"regular\"))\n",
        "print(allowedToEnter(16,\"restricted\"))\n",
        "print(allowedToEnter(18,\"restricted\"))\n",
        "print(allowedToEnter(18,\"regular\"))"
      ],
      "metadata": {
        "id": "I0k2VtdmQTsn"
      },
      "execution_count": null,
      "outputs": []
    },
    {
      "cell_type": "markdown",
      "source": [
        "Make a copy of the *allowedToEnter* function in the next block, and modify it so that the age limit is now 21 or over, and that you can enter using either a \"regular\" or \"special\" card"
      ],
      "metadata": {
        "id": "eTbYlBrsQWy-"
      }
    },
    {
      "cell_type": "code",
      "source": [
        "# make your copy of the function here and modify it"
      ],
      "metadata": {
        "id": "D2i6ZutBQfCd"
      },
      "execution_count": null,
      "outputs": []
    },
    {
      "cell_type": "markdown",
      "source": [
        "In the next block, make a copy of the tests from above, and add some new tests to check the changed version of the function"
      ],
      "metadata": {
        "id": "ttd4UCknQh5V"
      }
    },
    {
      "cell_type": "code",
      "source": [
        "# put your tests here"
      ],
      "metadata": {
        "id": "LaHxm1vkQkRJ"
      },
      "execution_count": null,
      "outputs": []
    },
    {
      "cell_type": "markdown",
      "source": [
        "**Correcting Errors.** The following code is meant to define a function that takes an income value (an integer number), and prints \"no tax\" if the number is 10,000 or less, \"regular tax\" if the income is between 10,001 and 40,000, and \"high tax\" if the income is greater than 40,000. There are (at least) three errors in the code. Find them and correct them."
      ],
      "metadata": {
        "id": "VGOelriHQpIM"
      }
    },
    {
      "cell_type": "code",
      "source": [
        "# version with errors\n",
        "def taxBand(income):\n",
        "    if income<10000:\n",
        "        print(\"no tax\")\n",
        "    elif 10001<=income<=40000:\n",
        "        print(regular tax)\n",
        "    print(\"high tax\")"
      ],
      "metadata": {
        "id": "x649mmGBQxIf"
      },
      "execution_count": null,
      "outputs": []
    },
    {
      "cell_type": "markdown",
      "source": [
        "**Pluralising Words.** In the next block, write a function pluralize(word, amount) that takes a word (a text string) and an amount (a number) and returns the number followed by the word. If the number is not 1, add a \"s\" to the word to make it plural. So, for example, \"1 dog\", \"5 cats\", etc. This should take around five lines of Python code. To turn a number into a text string, we use the str() function - you will need to find out how to use this. To combine two strings of text together, use the *+* sign."
      ],
      "metadata": {
        "id": "vmNw3dKVQz4H"
      }
    },
    {
      "cell_type": "code",
      "source": [
        "#write your function here"
      ],
      "metadata": {
        "id": "7cNIH63uRbvA"
      },
      "execution_count": null,
      "outputs": []
    },
    {
      "cell_type": "code",
      "source": [
        "# test your function here"
      ],
      "metadata": {
        "id": "mumkD9MFRcQ6"
      },
      "execution_count": null,
      "outputs": []
    },
    {
      "cell_type": "markdown",
      "source": [
        "In the English language, some plurals are *irregular* - the plural form is not obtained by adding an \"s\". For example, the plural of \"sheep\" is \"sheep\" and the plural of \"goose\" is \"geese\". Make a copy of your code into the next block, and change it so that it works correctly with these words"
      ],
      "metadata": {
        "id": "ouCZvoWiRfa7"
      }
    },
    {
      "cell_type": "code",
      "source": [
        "# copy your function here and modify it"
      ],
      "metadata": {
        "id": "nK9nBgtURkDM"
      },
      "execution_count": null,
      "outputs": []
    },
    {
      "cell_type": "code",
      "source": [
        "# test your modified function here"
      ],
      "metadata": {
        "id": "PyeVtiOnRk-o"
      },
      "execution_count": null,
      "outputs": []
    },
    {
      "cell_type": "markdown",
      "source": [
        "**Extensions**:\\\n",
        "If you are finding the above task fairly easy, here are some extensions to it. These are optional.\n",
        "* check if the number is negative, and return \"error\" instead\n",
        "* if the number is 0, allow it, but replace it with the word \"zero\"\n",
        "* if the number is between 1-10, use the words \"one\",\"two\"... rather than the numbers, otherwise use the number. So \"one cat\", \"three dogs\", \"15 cows\", \"12 geese\" etc. If you know about *dictionaries* in Python, you could use one of those here."
      ],
      "metadata": {
        "id": "pE4RCthXRnFy"
      }
    },
    {
      "cell_type": "code",
      "source": [
        "# write your extensions here"
      ],
      "metadata": {
        "id": "dRKdp8txRuRT"
      },
      "execution_count": null,
      "outputs": []
    },
    {
      "cell_type": "markdown",
      "source": [
        "Write a function sellAlcohol() which implements the process of a cashier deciding whether or not someone can purchase alcoholic drinks in a shop:\n",
        "* The cashier inputs the age that that they think the customer is\n",
        "* if that age is over 25, the function returns the text string \"allowed\"\n",
        "* otherwise, the cashier checks the person's ID card, and inputs:\n",
        "    * the age on on the id card, if the person has ID\n",
        "    * the phrase \"no id\" if the person can't produce it\n",
        "* note that you will have to input this as a text string, then later on convert it to a number using *int()*\n",
        "* if the person has ID that confirms that they are 18 or over, then the function returns the text \"allowed\"\n",
        "* if the person has ID that confirms that they are under 18, then the function returns the text \"not allowed\"\n",
        "* if the person cannot produce ID, then the function returns the string \"not allowed\"\n",
        "This should take around 13 lines of code"
      ],
      "metadata": {
        "id": "6EbTHRe7R8Eo"
      }
    },
    {
      "cell_type": "code",
      "source": [
        "# write your function in this block"
      ],
      "metadata": {
        "id": "hqRT8yRnR6lz"
      },
      "execution_count": null,
      "outputs": []
    },
    {
      "cell_type": "code",
      "source": [
        "# use this block to test your function"
      ],
      "metadata": {
        "id": "XEshccRGR_lC"
      },
      "execution_count": null,
      "outputs": []
    },
    {
      "cell_type": "markdown",
      "source": [
        "### Lab 2 Part 2: Exercises on Lists, Loops and Decision-making\n",
        "\n",
        "Here are some introductory exercises on lists, loops and decision making (using Python for loops and if statements).\n",
        "\n",
        "To complete each task, you should fill in the code block that begin with a # symbol, replacing the text that is there with your code. Once you have completed the code, either click the \"play\" symbol to the left of the block, or press shift-return on your keyboard. If there is output from that piece of code, it will then display in a new block underneath the code.\n",
        "\n",
        "The tasks use similar ideas to those demonstrated in the lecture on Thursday, so you should have a look at that on Moodle for ideas and inspiration."
      ],
      "metadata": {
        "id": "IyAX-QzzfcRZ"
      }
    },
    {
      "cell_type": "markdown",
      "source": [
        "The next block creates a list of four text strings. There is no need to modify the next block."
      ],
      "metadata": {
        "id": "TvCSxqmkNIA_"
      }
    },
    {
      "cell_type": "markdown",
      "source": [],
      "metadata": {
        "id": "5Jq4GI9YPNof"
      }
    },
    {
      "cell_type": "code",
      "source": [
        "listOfNames = [\"Beaker\", \"Kermit the Frog\", \"Fozzie Bear\", \"Animal\"]"
      ],
      "metadata": {
        "id": "UhQIS2lpNYb5"
      },
      "execution_count": null,
      "outputs": []
    },
    {
      "cell_type": "markdown",
      "source": [
        "In the next block, use the **for** keyword to write the word \"hello\" followed by each name in the list. This should take two lines."
      ],
      "metadata": {
        "id": "cCy1OXcNNbkx"
      }
    },
    {
      "cell_type": "code",
      "source": [
        "# insert your code here"
      ],
      "metadata": {
        "id": "6tUvZA4LNawn"
      },
      "execution_count": null,
      "outputs": []
    },
    {
      "cell_type": "markdown",
      "source": [
        "The following block creates a list of numbers. There is no need to modify the next block."
      ],
      "metadata": {
        "id": "nU-bzpG2Naol"
      }
    },
    {
      "cell_type": "code",
      "source": [
        "listOfNumbers = [12,43,26,34,84,16,7,99]"
      ],
      "metadata": {
        "id": "ytnSgACwNacD"
      },
      "execution_count": null,
      "outputs": []
    },
    {
      "cell_type": "markdown",
      "source": [
        "In the next block, write five lines of code that loops through the list and prints the number followed by the word \"big\" if it is greater than 50, otherwise if it is less than or equal to 50, prints the word \"small\""
      ],
      "metadata": {
        "id": "V9kXqiBxNaPj"
      }
    },
    {
      "cell_type": "code",
      "source": [
        "# replace this line with a for statement to go through listOfNumbers\n",
        "    # replace this line with an if statement to check whether the number is greater than 50\n",
        "        # replace this line with a line that prints the number followed by the word \"big\"\n",
        "    # replace this line with an if statement to check whether the number is less than or equal to 50\n",
        "        # replace this line with a line that prints the number followed by the word \"small\""
      ],
      "metadata": {
        "id": "PDYb1j1COeBa"
      },
      "execution_count": null,
      "outputs": []
    },
    {
      "cell_type": "markdown",
      "source": [
        "In the next block, write code that goes through the **listOfNames**, printing the name and \"long name\" if the length of the name is greater than 8 letters (characters) long, and \"small name\" if it's length is 8 or less. Remember that the **len** function gets the length of a string of text."
      ],
      "metadata": {
        "id": "fe8bgr7bqFGn"
      }
    },
    {
      "cell_type": "code",
      "source": [
        "## replace this comment with your code"
      ],
      "metadata": {
        "id": "wvRpsviNyVsZ"
      },
      "execution_count": null,
      "outputs": []
    },
    {
      "cell_type": "markdown",
      "source": [
        "In the next block, write code that creates two empty lists: longNames, and shortNames. Then, write a loop that goes through listOfNames, appending the name to shortNames if it is 8 or fewer characters long, and otherwise to longNames. Finally, your code should print out the two lists."
      ],
      "metadata": {
        "id": "clLhwD2vtIX5"
      }
    },
    {
      "cell_type": "code",
      "source": [
        "## replace this comment with your code"
      ],
      "metadata": {
        "id": "imBGCDAKvTn-"
      },
      "execution_count": null,
      "outputs": []
    },
    {
      "cell_type": "markdown",
      "source": [
        "The next block contains a list of names and birthdays. Each entry in the list consists of a name, then the month, then the day. So, for example, [\"Kermit the Frog\", 10, 8] means that Kermit was born on the 8th October. There is no need to modify the next block."
      ],
      "metadata": {
        "id": "E64PFwlkQteu"
      }
    },
    {
      "cell_type": "code",
      "source": [
        "listOfNamesAndBirthdays = [ [\"Beaker\", 10,7], [\"Kermit the Frog\",10,8],[\"Gonzo\",6,20], [\"Fozzie Bear\",10,7], [\"Animal\",10,11], [\"Miss Piggy\", 10,8] ]"
      ],
      "metadata": {
        "id": "aX54Bt7oQuFh"
      },
      "execution_count": null,
      "outputs": []
    },
    {
      "cell_type": "markdown",
      "source": [
        "The next block contains some code to show how to get the current day and month. Add code to this that loops through **listOfNamesAndBirthdays**, and prints \"Happy birthday\" followed by the name if it is their birthday today."
      ],
      "metadata": {
        "id": "AEhM5z5hQuY5"
      }
    },
    {
      "cell_type": "code",
      "source": [
        "import datetime\n",
        "todaysDate = datetime.date.today()\n",
        "print(todaysDate.month)\n",
        "print(todaysDate.day)\n",
        "# add your code here"
      ],
      "metadata": {
        "colab": {
          "base_uri": "https://localhost:8080/"
        },
        "id": "xzNQuYlpQunD",
        "outputId": "5d668bde-4095-45a7-88c8-f29ef8f355cd"
      },
      "execution_count": null,
      "outputs": [
        {
          "output_type": "stream",
          "name": "stdout",
          "text": [
            "10\n",
            "11\n"
          ]
        }
      ]
    },
    {
      "cell_type": "markdown",
      "source": [
        "### Lab 2 Part 3: A More Complex Greetings Loop"
      ],
      "metadata": {
        "id": "wed7tnaMO7uC"
      }
    },
    {
      "cell_type": "markdown",
      "source": [
        "In the next block, write a list of 26 greetings, one beginning with each letter of the alphabet; e.g. [\"A good day to\", \"Best wishes to\", \"Coo-ee\", \"Do have a good day\",...\".\n",
        "\n",
        "Then write code that goes through **listOfNames**, choosing the greeting that begins with the same letter, and print the greeting with the same first letter as the name; e.g. \"Best wishes to Beaker\".\n",
        "\n"
      ],
      "metadata": {
        "id": "BcOiQa3UPFy_"
      }
    },
    {
      "cell_type": "code",
      "source": [
        "# insert your code here"
      ],
      "metadata": {
        "id": "Cp9OVayuPFPr"
      },
      "execution_count": null,
      "outputs": []
    },
    {
      "cell_type": "markdown",
      "source": [
        "### Lab 2 Part 4: A Number-Guessing Game\n",
        "\n",
        "The aim of this exercise is to build a number-guessing game. The computer will generate a list of six numbers in the range 1-20, and the aim of the player is to guess the six numbers. There are various clues given to help the player to guess which numbers are in the list."
      ],
      "metadata": {
        "id": "xMua9JnyhG2e"
      }
    },
    {
      "cell_type": "markdown",
      "source": [
        "Here is a list of six numbers:"
      ],
      "metadata": {
        "id": "vkY-eCLCh3l5"
      }
    },
    {
      "cell_type": "code",
      "source": [
        "numbersToGuess = [5,2,6,12,17,13]"
      ],
      "metadata": {
        "id": "j-ItKXpuhrFv"
      },
      "execution_count": null,
      "outputs": []
    },
    {
      "cell_type": "markdown",
      "source": [
        "In the next block, write one line of code that prints the numbers to the screen."
      ],
      "metadata": {
        "id": "eW_PLwjuiSmD"
      }
    },
    {
      "cell_type": "code",
      "source": [
        "# write your code here"
      ],
      "metadata": {
        "id": "IATF6B9ph2y6"
      },
      "execution_count": null,
      "outputs": []
    },
    {
      "cell_type": "markdown",
      "source": [
        "Imagine that the player types the number 6. In the next block, using the keywords **if** and **in** write a couple of lines of code that check whether the number is in the list, and if so, prints the word \"correct\"."
      ],
      "metadata": {
        "id": "vjrLXzAlijoQ"
      }
    },
    {
      "cell_type": "code",
      "source": [
        "# write your code here"
      ],
      "metadata": {
        "id": "XWIvcugujEk_"
      },
      "execution_count": null,
      "outputs": []
    },
    {
      "cell_type": "markdown",
      "source": [
        "The function **random.randint()** generates a random integer in a given range. It is part of the **random** module, so we need to use **import random** to tell Python that we will be using that module. For example, here is how we generate a random number in the range 1-20. This block is just an example, you do not need to add anything to it or change it."
      ],
      "metadata": {
        "id": "W0h-4J5Mjbas"
      }
    },
    {
      "cell_type": "code",
      "source": [
        "import random\n",
        "randomNumber = random.randint(1,20)\n",
        "print(randomNumber)"
      ],
      "metadata": {
        "id": "No_I7HQcjzFY"
      },
      "execution_count": null,
      "outputs": []
    },
    {
      "cell_type": "markdown",
      "source": [
        "In the next block, use the **random.randint()** function, and a **for** loop to put six random numbers in the list **numbersToGuess**. So, instead of using a fixed list of numbers as we have been doing so far, a new list will be generated each time."
      ],
      "metadata": {
        "id": "fWta_9VAkVNB"
      }
    },
    {
      "cell_type": "code",
      "source": [
        "# replace this with a line that creates an empty list called numbersToGuess\n",
        "for number in range(6):\n",
        "  # replace this with a line that appends a random number in the range 1-20 to numbersToGuess\n",
        "# replace this with a line that prints out the list numbersToGuess"
      ],
      "metadata": {
        "id": "bWZq_bEUlJXs"
      },
      "execution_count": null,
      "outputs": []
    },
    {
      "cell_type": "markdown",
      "source": [
        "The next block shows how to use the **input()** function to get a number from the user. This block is just an example, you do not need to add anything to it or change it."
      ],
      "metadata": {
        "id": "83PZ_CErlpK9"
      }
    },
    {
      "cell_type": "code",
      "source": [
        "myGuess = int(input(\"Guess a number: \"))\n",
        "print(myGuess)"
      ],
      "metadata": {
        "id": "K5sdXVgnmHfP"
      },
      "execution_count": null,
      "outputs": []
    },
    {
      "cell_type": "markdown",
      "source": [
        "In the next block, use the **def** keyword to write a function called **makeAGuess** that takes as input a list of numbers, uses the **int(input())** function from the previous block to get a number from the user, and uses the **if**, **in**, **not** and **return** keywords to return the word \"correct\" if the number is in the list, otherwise it returns the word \"missing\""
      ],
      "metadata": {
        "id": "rBGnwul5mLyW"
      }
    },
    {
      "cell_type": "code",
      "source": [
        "def makeAGuess(listOfNumbers):\n",
        "  # write a line to input the user's number, give it the name guess\n",
        "  # write a line to check whether the user's number is in listOfNumbers\n",
        "  # write a line to return the number if this is the case\n",
        "  # write a line to check whether the user's number is not in listOfNumbers\n",
        "  # write a line to return 0 if this is the case"
      ],
      "metadata": {
        "id": "r-fHjEBcnB05"
      },
      "execution_count": null,
      "outputs": []
    },
    {
      "cell_type": "markdown",
      "source": [
        "Use the following code to check whether you have written the makeAGuess function correctly. Remember to test it both with examples from the list, and examples that are missing from the list."
      ],
      "metadata": {
        "id": "OwgW0sj3zfMK"
      }
    },
    {
      "cell_type": "code",
      "source": [
        "print(numbersToGuess)\n",
        "print(makeAGuess(numbersToGuess))"
      ],
      "metadata": {
        "id": "rf5OHqjdzurw"
      },
      "execution_count": null,
      "outputs": []
    },
    {
      "cell_type": "markdown",
      "source": [
        "Now, we are going to give the player 10 attempts to guess the number. In the next block, write code to create a random list of numbers, write a **for** loop that repeats 10 times (remember that **range(10)** creates a list of 10 numbers), then uses **makeAGuess** to see if the number is in the list. If the guess is in the list, remove the number from the list (to do this, you will need to find out how use the **remove()** function). Finally, print out how many numbers the player didn't guess."
      ],
      "metadata": {
        "id": "P-VvKxm3zzkG"
      }
    },
    {
      "cell_type": "code",
      "source": [
        "# create an empty list called numbersToGuess\n",
        "# fill numbersToGuess with random numbers in the range 1-20 (two lines)\n",
        "# write a for loop that repeats 10 times\n",
        "  # use the makeAGuess function to let the player take a guess\n",
        "  # if the guess is correct (a number 1 or greater)\n",
        "    # print a congratulation message\n",
        "    # remove the guess from numbersToGuess\n",
        "  # if the guess is incorrect (the number 0)\n",
        "    # print a \"better luck next time\" message\n",
        "# print how many numbers the user didn't guess"
      ],
      "metadata": {
        "id": "girYPYzQ0P3g"
      },
      "execution_count": null,
      "outputs": []
    },
    {
      "cell_type": "markdown",
      "source": [
        "**More challenging:** Define a function nextTo(guess, listOfNumbers) which takes a guess number and a list of numbers, and returns \"nearby\" if one or more of the numbers in listOfNumbers is next to the guess by 1. Otherwise, it returns \"not found\". So, for example, if the list was [3,7,14] and the guess was 4, it would return \"nearby\", because 4 is 3+1, whereas if the guess was 11, it would return. \"not found\" because the nearby numbers to 11 are 10 and 12, neither of which is in the list. This is a more advanced exercise, I am not expecting everyone to get this far."
      ],
      "metadata": {
        "id": "2RA7YbzPDjw-"
      }
    },
    {
      "cell_type": "code",
      "source": [
        "## insert your code here"
      ],
      "metadata": {
        "id": "h6xgmroMEKVi"
      },
      "execution_count": null,
      "outputs": []
    },
    {
      "cell_type": "markdown",
      "source": [
        "**More challenging:** Now, use this **nextTo** function to change the game, so that the game gives a clue to the user to say whether their guess was next to one of the remaining numbers or not. This is a more advanced exercise, I am not expecting everyone to get this far."
      ],
      "metadata": {
        "id": "krAOhIM7FGMM"
      }
    },
    {
      "cell_type": "code",
      "source": [
        "## insert your code here"
      ],
      "metadata": {
        "id": "cFhtLGsMFeSs"
      },
      "execution_count": null,
      "outputs": []
    },
    {
      "cell_type": "markdown",
      "source": [
        "**Extensions:** If you have found the above exercises straightforward, here are a number of extensions that you can implement during the lab or in your own time. These are challenging, and I would not expect most students to be doing these.\n",
        "\n",
        "The main area where you can improve the game is by giving additional clues to the player. For example:\n",
        "*   Giving the user the average of the numbers in the list\n",
        "*   Giving the user some indication of the ranges in which the numbers in the list sit \"there are 3 numbers in the range 1-5, none in the range 6-10, 1 in the range 11-15,...\"\n",
        "*   Giving the user a list of the digits in the numbers, but shuffled together: so, if the list was [34,62,14] the user would be given a clue such as 612443.\n",
        "*   Giving the user an anagram of one of the numbers in words. This is particularly challenging\n",
        "\n",
        "You might also investigate giving the user more feedback on wrong guesses:\n",
        "*   \"3 of the numbers in the list are higher than your guess, and 2 lower\"\n",
        "\n",
        "\n"
      ],
      "metadata": {
        "id": "8jFDFM3t3Xl5"
      }
    }
  ]
}