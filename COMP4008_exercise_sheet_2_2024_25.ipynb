{
  "nbformat": 4,
  "nbformat_minor": 0,
  "metadata": {
    "colab": {
      "provenance": [],
      "include_colab_link": true
    },
    "kernelspec": {
      "name": "python3",
      "display_name": "Python 3"
    },
    "language_info": {
      "name": "python"
    }
  },
  "cells": [
    {
      "cell_type": "markdown",
      "metadata": {
        "id": "view-in-github",
        "colab_type": "text"
      },
      "source": [
        "<a href=\"https://colab.research.google.com/github/sylwiacloud/MSc/blob/main/COMP4008_exercise_sheet_2_2024_25.ipynb\" target=\"_parent\"><img src=\"https://colab.research.google.com/assets/colab-badge.svg\" alt=\"Open In Colab\"/></a>"
      ]
    },
    {
      "cell_type": "markdown",
      "source": [
        "### Lab 2 Part 1: Revising Decision Making using *if* Statements\n",
        "\n",
        "These exercises should be straightforward if you understood last week's work. If you are very confident with last week's exercises, you can skip to Part 2."
      ],
      "metadata": {
        "id": "Xnw1lLDvO_CD"
      }
    },
    {
      "cell_type": "markdown",
      "source": [
        "**Simple Preliminary Exercise**. In the next block, write a function retired(age) which takes as input a number, called age, and prints the phrase \"eligible to retire\" if the age is over 67, otherwise prints the phrase \"pre-retirement\"."
      ],
      "metadata": {
        "id": "OH6onEeQPVGi"
      }
    },
    {
      "cell_type": "code",
      "source": [
        "def retired(age):\n",
        "  RetirementEligibility = \"\"\n",
        "  if age > 67:\n",
        "    RetirementEligibility = \"eligible to retire\"\n",
        "  else:\n",
        "    RetirementEligibility = \"pre-retirement\"\n",
        "  print(RetirementEligibility)"
      ],
      "metadata": {
        "id": "kCS-UV1bPNZX"
      },
      "execution_count": 5,
      "outputs": []
    },
    {
      "cell_type": "markdown",
      "source": [
        "If your function is working correctly, the following block should output:\\\n",
        "eligible to retire\\\n",
        "pre-retirement\\\n",
        "pre-retirement"
      ],
      "metadata": {
        "id": "OZLqzQTlPb0C"
      }
    },
    {
      "cell_type": "code",
      "source": [
        "retired(72)\n",
        "retired(67)\n",
        "retired(49)"
      ],
      "metadata": {
        "id": "NVXlKQeCPhQF",
        "colab": {
          "base_uri": "https://localhost:8080/"
        },
        "outputId": "45078769-b038-4e7c-df88-f6917bd4cbf8"
      },
      "execution_count": 6,
      "outputs": [
        {
          "output_type": "stream",
          "name": "stdout",
          "text": [
            "eligible to retire\n",
            "pre-retirement\n",
            "pre-retirement\n"
          ]
        }
      ]
    },
    {
      "cell_type": "markdown",
      "source": [
        "**Basic Decision Making.** Have a look at the following function, which returns True if a person is 18 or over and has a \"regular\" membership card, and False otherwise."
      ],
      "metadata": {
        "id": "qpNbby8VPjjF"
      }
    },
    {
      "cell_type": "code",
      "source": [
        "def allowedToEnter(age,cardType):\n",
        "    if age>=18 and cardType==\"regular\":\n",
        "        return True\n",
        "    else:\n",
        "        return False"
      ],
      "metadata": {
        "id": "hzQd2Ap7PnUb"
      },
      "execution_count": 7,
      "outputs": []
    },
    {
      "cell_type": "markdown",
      "source": [
        "Run the following tests for this, and check that the answers it gives\n",
        "are consistent with the description:"
      ],
      "metadata": {
        "id": "ACaXAJxJQPTo"
      }
    },
    {
      "cell_type": "code",
      "source": [
        "print(allowedToEnter(21,\"regular\"))\n",
        "print(allowedToEnter(16,\"restricted\"))\n",
        "print(allowedToEnter(18,\"restricted\"))\n",
        "print(allowedToEnter(18,\"regular\"))"
      ],
      "metadata": {
        "id": "I0k2VtdmQTsn",
        "colab": {
          "base_uri": "https://localhost:8080/"
        },
        "outputId": "b8c98782-ee12-43a1-cf2d-d2fefe507aa9"
      },
      "execution_count": 8,
      "outputs": [
        {
          "output_type": "stream",
          "name": "stdout",
          "text": [
            "True\n",
            "False\n",
            "False\n",
            "True\n"
          ]
        }
      ]
    },
    {
      "cell_type": "markdown",
      "source": [
        "Make a copy of the *allowedToEnter* function in the next block, and modify it so that the age limit is now 21 or over, and that you can enter using either a \"regular\" or \"special\" card"
      ],
      "metadata": {
        "id": "eTbYlBrsQWy-"
      }
    },
    {
      "cell_type": "code",
      "source": [
        "def allowedToEnter(age,cardType):\n",
        "    if age>=21 and ( cardType==\"regular\" or cardType == \"special\" ):\n",
        "        return True\n",
        "    else:\n",
        "        return False"
      ],
      "metadata": {
        "id": "D2i6ZutBQfCd"
      },
      "execution_count": 10,
      "outputs": []
    },
    {
      "cell_type": "markdown",
      "source": [
        "In the next block, make a copy of the tests from above, and add some new tests to check the changed version of the function"
      ],
      "metadata": {
        "id": "ttd4UCknQh5V"
      }
    },
    {
      "cell_type": "code",
      "source": [
        "print(allowedToEnter(21,\"regular\"))\n",
        "print(allowedToEnter(21,\"special\"))\n",
        "print(allowedToEnter(16,\"regular\"))\n",
        "print(allowedToEnter(16,\"special\"))\n",
        "print(allowedToEnter(30,\"regular\"))\n",
        "print(allowedToEnter(30,\"special\"))\n",
        "print(allowedToEnter(30,\"restricted\"))"
      ],
      "metadata": {
        "id": "LaHxm1vkQkRJ",
        "colab": {
          "base_uri": "https://localhost:8080/"
        },
        "outputId": "d913887b-105a-49fc-9c13-ae8bc900190c"
      },
      "execution_count": 11,
      "outputs": [
        {
          "output_type": "stream",
          "name": "stdout",
          "text": [
            "True\n",
            "True\n",
            "False\n",
            "False\n",
            "True\n",
            "True\n",
            "False\n"
          ]
        }
      ]
    },
    {
      "cell_type": "markdown",
      "source": [
        "**Correcting Errors.** The following code is meant to define a function that takes an income value (an integer number), and prints \"no tax\" if the number is 10,000 or less, \"regular tax\" if the income is between 10,001 and 40,000, and \"high tax\" if the income is greater than 40,000. There are (at least) three errors in the code. Find them and correct them."
      ],
      "metadata": {
        "id": "VGOelriHQpIM"
      }
    },
    {
      "cell_type": "code",
      "source": [
        "# version with errors\n",
        "def taxBand(income):\n",
        "    if income <= 10000:\n",
        "        print(\"no tax\")\n",
        "    elif 10001 <= income <= 40000:\n",
        "        print(\"regular tax\")\n",
        "    else:\n",
        "      print(\"high tax\")"
      ],
      "metadata": {
        "id": "x649mmGBQxIf"
      },
      "execution_count": 12,
      "outputs": []
    },
    {
      "cell_type": "markdown",
      "source": [
        "**Pluralising Words.** In the next block, write a function pluralize(word, amount) that takes a word (a text string) and an amount (a number) and returns the number followed by the word. If the number is not 1, add a \"s\" to the word to make it plural. So, for example, \"1 dog\", \"5 cats\", etc. This should take around five lines of Python code. To turn a number into a text string, we use the str() function - you will need to find out how to use this. To combine two strings of text together, use the *+* sign."
      ],
      "metadata": {
        "id": "vmNw3dKVQz4H"
      }
    },
    {
      "cell_type": "code",
      "source": [
        "def pluralize(word, amount):\n",
        "  if amount == 1:\n",
        "    print(str(amount) + \" \" + word)\n",
        "  else:\n",
        "    print(str(amount) + \" \" + word + \"s\")"
      ],
      "metadata": {
        "id": "7cNIH63uRbvA"
      },
      "execution_count": 18,
      "outputs": []
    },
    {
      "cell_type": "code",
      "source": [
        "pluralize(\"dog\", 1)\n",
        "pluralize(\"cat\", 5)\n"
      ],
      "metadata": {
        "id": "mumkD9MFRcQ6",
        "colab": {
          "base_uri": "https://localhost:8080/"
        },
        "outputId": "b25e6721-6970-4a2c-a1a6-074b780b200d"
      },
      "execution_count": 19,
      "outputs": [
        {
          "output_type": "stream",
          "name": "stdout",
          "text": [
            "1 dog\n",
            "5 cats\n"
          ]
        }
      ]
    },
    {
      "cell_type": "markdown",
      "source": [
        "In the English language, some plurals are *irregular* - the plural form is not obtained by adding an \"s\". For example, the plural of \"sheep\" is \"sheep\" and the plural of \"goose\" is \"geese\". Make a copy of your code into the next block, and change it so that it works correctly with these words"
      ],
      "metadata": {
        "id": "ouCZvoWiRfa7"
      }
    },
    {
      "cell_type": "code",
      "source": [
        "def pluralize(word, amount):\n",
        "  string_amount = str(amount) + \" \"\n",
        "  if amount == 1:\n",
        "    print(string_amount + word)\n",
        "  elif word == \"sheep\":\n",
        "    print(string_amount + \"sheep\")\n",
        "  elif word == \"goose\":\n",
        "    print(string_amount + \"geese\")\n",
        "  else:\n",
        "    print(string_amount + word + \"s\")"
      ],
      "metadata": {
        "id": "nK9nBgtURkDM"
      },
      "execution_count": 22,
      "outputs": []
    },
    {
      "cell_type": "code",
      "source": [
        "pluralize(\"sheep\", 3)\n",
        "pluralize(\"sheep\", 1)\n",
        "pluralize(\"goose\", 1)\n",
        "pluralize(\"goose\", 7)\n",
        "pluralize(\"dog\", 1)\n",
        "pluralize(\"cat\", 5)"
      ],
      "metadata": {
        "id": "PyeVtiOnRk-o",
        "colab": {
          "base_uri": "https://localhost:8080/"
        },
        "outputId": "fc01b62a-df30-49fc-e81a-f36c701871c2"
      },
      "execution_count": 25,
      "outputs": [
        {
          "output_type": "stream",
          "name": "stdout",
          "text": [
            "3 sheep\n",
            "1 sheep\n",
            "1 goose\n",
            "7 geese\n",
            "1 dog\n",
            "5 cats\n"
          ]
        }
      ]
    },
    {
      "cell_type": "markdown",
      "source": [
        "**Extensions**:\\\n",
        "If you are finding the above task fairly easy, here are some extensions to it. These are optional.\n",
        "* check if the number is negative, and return \"error\" instead\n",
        "* if the number is 0, allow it, but replace it with the word \"zero\"\n",
        "* if the number is between 1-10, use the words \"one\",\"two\"... rather than the numbers, otherwise use the number. So \"one cat\", \"three dogs\", \"15 cows\", \"12 geese\" etc. If you know about *dictionaries* in Python, you could use one of those here."
      ],
      "metadata": {
        "id": "pE4RCthXRnFy"
      }
    },
    {
      "cell_type": "code",
      "source": [
        "dict_of_numbers = {\n",
        "    1: \"one\",\n",
        "    2: \"two\",\n",
        "    3: \"three\",\n",
        "    4: \"four\",\n",
        "    5:  \"five\",\n",
        "    6:  \"six\",\n",
        "    7:  \"seven\",\n",
        "    8:  \"eight\",\n",
        "    9:  \"nine\",\n",
        "    10: \"ten\"\n",
        "}\n",
        "\n",
        "def pluralize(word, amount):\n",
        "  new_amount = str(amount)\n",
        "  plural_word = word\n",
        "  word_to_use = \"\"\n",
        "  if amount <0:\n",
        "    print(\"error\")\n",
        "  elif amount == 0:\n",
        "    amount = \"zero\"\n",
        "  elif amount <= 10:\n",
        "    new_amount = dict_of_numbers[amount]\n",
        "  else:\n",
        "    new_amount = amount\n",
        "  if word == \"sheep\":\n",
        "    plural_word = \"sheep\"\n",
        "  elif word == \"goose\" and amount > 1:\n",
        "    plural_word = \"geese\"\n",
        "  elif amount == 1:\n",
        "    plural_word = word\n",
        "  else:\n",
        "    plural_word = word + \"s\"\n",
        "  print(new_amount + \" \" + plural_word)"
      ],
      "metadata": {
        "id": "dRKdp8txRuRT"
      },
      "execution_count": 44,
      "outputs": []
    },
    {
      "cell_type": "code",
      "source": [
        "pluralize(\"sheep\", 3)\n",
        "pluralize(\"sheep\", 1)\n",
        "pluralize(\"goose\", 1)\n",
        "pluralize(\"goose\", 7)\n",
        "pluralize(\"dog\", 1)\n",
        "pluralize(\"cat\", 5)"
      ],
      "metadata": {
        "colab": {
          "base_uri": "https://localhost:8080/"
        },
        "id": "jUgva6WT0v25",
        "outputId": "5f0c7396-e72d-4d12-8193-d331c508b8c8"
      },
      "execution_count": 45,
      "outputs": [
        {
          "output_type": "stream",
          "name": "stdout",
          "text": [
            "three sheep\n",
            "one sheep\n",
            "one goose\n",
            "seven geese\n",
            "one dog\n",
            "five cats\n"
          ]
        }
      ]
    },
    {
      "cell_type": "markdown",
      "source": [
        "Write a function sellAlcohol() which implements the process of a cashier deciding whether or not someone can purchase alcoholic drinks in a shop:\n",
        "* The cashier inputs the age that that they think the customer is\n",
        "* if that age is over 25, the function returns the text string \"allowed\"\n",
        "* otherwise, the cashier checks the person's ID card, and inputs:\n",
        "    * the age on on the id card, if the person has ID\n",
        "    * the phrase \"no id\" if the person can't produce it\n",
        "* note that you will have to input this as a text string, then later on convert it to a number using *int()*\n",
        "* if the person has ID that confirms thatdef they are 18 or over, then the function returns the text \"allowed\"\n",
        "* if the person has ID that confirms that they are under 18, then the function returns the text \"not allowed\"\n",
        "* if the person cannot produce ID, then the function returns the string \"not allowed\"\n",
        "This should take around 13 lines of code"
      ],
      "metadata": {
        "id": "6EbTHRe7R8Eo"
      }
    },
    {
      "cell_type": "code",
      "source": [
        "def sellAlcohol(age, ID = 17):\n",
        "  if age > 25:\n",
        "    print(\"allowed\")\n",
        "  elif ID == \"no id\":\n",
        "    print( \"not allowed\" )\n",
        "  elif int(ID) >= 18:\n",
        "    print(\"allowed\")\n",
        "  else:\n",
        "    print(\"not allowed\")"
      ],
      "metadata": {
        "id": "hqRT8yRnR6lz"
      },
      "execution_count": 50,
      "outputs": []
    },
    {
      "cell_type": "code",
      "source": [
        "sellAlcohol(27)\n",
        "sellAlcohol(16)"
      ],
      "metadata": {
        "id": "XEshccRGR_lC",
        "colab": {
          "base_uri": "https://localhost:8080/"
        },
        "outputId": "403efb4f-9795-49c2-a327-7d98300d2b44"
      },
      "execution_count": 51,
      "outputs": [
        {
          "output_type": "stream",
          "name": "stdout",
          "text": [
            "allowed\n",
            "not allowed\n"
          ]
        }
      ]
    },
    {
      "cell_type": "markdown",
      "source": [
        "### Lab 2 Part 2: Exercises on Lists, Loops and Decision-making\n",
        "\n",
        "Here are some introductory exercises on lists, loops and decision making (using Python for loops and if statements).\n",
        "\n",
        "To complete each task, you should fill in the code block that begin with a # symbol, replacing the text that is there with your code. Once you have completed the code, either click the \"play\" symbol to the left of the block, or press shift-return on your keyboard. If there is output from that piece of code, it will then display in a new block underneath the code.\n",
        "\n",
        "The tasks use similar ideas to those demonstrated in the lecture on Thursday, so you should have a look at that on Moodle for ideas and inspiration."
      ],
      "metadata": {
        "id": "IyAX-QzzfcRZ"
      }
    },
    {
      "cell_type": "markdown",
      "source": [
        "The next block creates a list of four text strings. There is no need to modify the next block."
      ],
      "metadata": {
        "id": "TvCSxqmkNIA_"
      }
    },
    {
      "cell_type": "markdown",
      "source": [],
      "metadata": {
        "id": "5Jq4GI9YPNof"
      }
    },
    {
      "cell_type": "code",
      "source": [
        "listOfNames = [\"Beaker\", \"Kermit the Frog\", \"Fozzie Bear\", \"Animal\"]"
      ],
      "metadata": {
        "id": "UhQIS2lpNYb5"
      },
      "execution_count": 6,
      "outputs": []
    },
    {
      "cell_type": "markdown",
      "source": [
        "In the next block, use the **for** keyword to write the word \"hello\" followed by each name in the list. This should take two lines."
      ],
      "metadata": {
        "id": "cCy1OXcNNbkx"
      }
    },
    {
      "cell_type": "code",
      "source": [
        "for name in listOfNames:\n",
        "  print(f\"hello {name}\")"
      ],
      "metadata": {
        "id": "6tUvZA4LNawn",
        "colab": {
          "base_uri": "https://localhost:8080/"
        },
        "outputId": "3d1d61ea-9bb3-413e-a6ab-554a2a945c92"
      },
      "execution_count": 53,
      "outputs": [
        {
          "output_type": "stream",
          "name": "stdout",
          "text": [
            "hello Beaker\n",
            "hello Kermit the Frog\n",
            "hello Fozzie Bear\n",
            "hello Animal\n"
          ]
        }
      ]
    },
    {
      "cell_type": "markdown",
      "source": [
        "The following block creates a list of numbers. There is no need to modify the next block."
      ],
      "metadata": {
        "id": "nU-bzpG2Naol"
      }
    },
    {
      "cell_type": "code",
      "source": [
        "listOfNumbers = [12,43,26,34,84,16,7,99]"
      ],
      "metadata": {
        "id": "ytnSgACwNacD"
      },
      "execution_count": 54,
      "outputs": []
    },
    {
      "cell_type": "markdown",
      "source": [
        "In the next block, write five lines of code that loops through the list and prints the number followed by the word \"big\" if it is greater than 50, otherwise if it is less than or equal to 50, prints the word \"small\""
      ],
      "metadata": {
        "id": "V9kXqiBxNaPj"
      }
    },
    {
      "cell_type": "code",
      "source": [
        "for number in listOfNumbers:\n",
        "    if number > 50:\n",
        "      print(f\"{number}: big\")\n",
        "    elif number <= 50:\n",
        "      print(f\"{number}: small\")"
      ],
      "metadata": {
        "id": "PDYb1j1COeBa",
        "colab": {
          "base_uri": "https://localhost:8080/"
        },
        "outputId": "6643fa87-b7fe-4270-b4dc-47aa0e7c9637"
      },
      "execution_count": 55,
      "outputs": [
        {
          "output_type": "stream",
          "name": "stdout",
          "text": [
            "12: small\n",
            "43: small\n",
            "26: small\n",
            "34: small\n",
            "84: big\n",
            "16: small\n",
            "7: small\n",
            "99: big\n"
          ]
        }
      ]
    },
    {
      "cell_type": "markdown",
      "source": [
        "In the next block, write code that goes through the **listOfNames**, printing the name and \"long name\" if the length of the name is greater than 8 letters (characters) long, and \"small name\" if it's length is 8 or less. Remember that the **len** function gets the length of a string of text."
      ],
      "metadata": {
        "id": "fe8bgr7bqFGn"
      }
    },
    {
      "cell_type": "code",
      "source": [
        "for name in listOfNames:\n",
        "  nameLength = \"\"\n",
        "  if len(name) > 8:\n",
        "    nameLength = \"long name\"\n",
        "  else:\n",
        "    nameLength = \"small name\"\n",
        "  print(f\"{name}: {nameLength}\")"
      ],
      "metadata": {
        "id": "wvRpsviNyVsZ",
        "colab": {
          "base_uri": "https://localhost:8080/"
        },
        "outputId": "149c062c-74fd-49f7-ccc3-d35a12e43814"
      },
      "execution_count": 4,
      "outputs": [
        {
          "output_type": "stream",
          "name": "stdout",
          "text": [
            "Beaker: small name\n",
            "Kermit the Frog: long name\n",
            "Fozzie Bear: long name\n",
            "Animal: small name\n"
          ]
        }
      ]
    },
    {
      "cell_type": "markdown",
      "source": [
        "In the next block, write code that creates two empty lists: longNames, and shortNames. Then, write a loop that goes through listOfNames, appending the name to shortNames if it is 8 or fewer characters long, and otherwise to longNames. Finally, your code should print out the two lists."
      ],
      "metadata": {
        "id": "clLhwD2vtIX5"
      }
    },
    {
      "cell_type": "code",
      "source": [
        "longNames = []\n",
        "shortNames = []\n",
        "for name in listOfNames:\n",
        "  if len(name) > 8:\n",
        "    longNames.append(name)\n",
        "  else:\n",
        "    shortNames.append(name)\n",
        "print(longNames)\n",
        "print(shortNames)"
      ],
      "metadata": {
        "id": "imBGCDAKvTn-",
        "colab": {
          "base_uri": "https://localhost:8080/"
        },
        "outputId": "b65f6ef0-b216-4efe-cb40-c7e5046b60fd"
      },
      "execution_count": 8,
      "outputs": [
        {
          "output_type": "stream",
          "name": "stdout",
          "text": [
            "['Kermit the Frog', 'Fozzie Bear']\n",
            "['Beaker', 'Animal']\n"
          ]
        }
      ]
    },
    {
      "cell_type": "markdown",
      "source": [
        "The next block contains a list of names and birthdays. Each entry in the list consists of a name, then the month, then the day. So, for example, [\"Kermit the Frog\", 10, 8] means that Kermit was born on the 8th October. There is no need to modify the next block."
      ],
      "metadata": {
        "id": "E64PFwlkQteu"
      }
    },
    {
      "cell_type": "code",
      "source": [
        "listOfNamesAndBirthdays = [ [\"Beaker\", 10,7], [\"Kermit the Frog\",10,8],[\"Gonzo\",6,20], [\"Fozzie Bear\",10,7], [\"Animal\",10,11], [\"Miss Piggy\", 10,8] ]"
      ],
      "metadata": {
        "id": "aX54Bt7oQuFh"
      },
      "execution_count": 9,
      "outputs": []
    },
    {
      "cell_type": "markdown",
      "source": [
        "The next block contains some code to show how to get the current day and month. Add code to this that loops through **listOfNamesAndBirthdays**, and prints \"Happy birthday\" followed by the name if it is their birthday today."
      ],
      "metadata": {
        "id": "AEhM5z5hQuY5"
      }
    },
    {
      "cell_type": "code",
      "source": [
        "import datetime\n",
        "todaysDate = datetime.date.today()\n",
        "todayMonth = todaysDate.month\n",
        "todayDay = todaysDate.day\n",
        "# add your code here\n",
        "for item in listOfNamesAndBirthdays:\n",
        "  name = item[0]\n",
        "  DOBmonth = item[1]\n",
        "  DOBday = item[2]\n",
        "  if DOBmonth == todayMonth and todayDay == DOBday:\n",
        "    print(f\"Happy birthday {name}!!!\")"
      ],
      "metadata": {
        "colab": {
          "base_uri": "https://localhost:8080/"
        },
        "id": "xzNQuYlpQunD",
        "outputId": "5abb1519-06f3-49d4-fde9-907c034a54f1"
      },
      "execution_count": 10,
      "outputs": [
        {
          "output_type": "stream",
          "name": "stdout",
          "text": [
            "Happy birthday Beaker!!!\n",
            "Happy birthday Fozzie Bear!!!\n"
          ]
        }
      ]
    },
    {
      "cell_type": "markdown",
      "source": [
        "### Lab 2 Part 3: A More Complex Greetings Loop"
      ],
      "metadata": {
        "id": "wed7tnaMO7uC"
      }
    },
    {
      "cell_type": "markdown",
      "source": [
        "In the next block, write a list of 26 greetings, one beginning with each letter of the alphabet; e.g. [\"A good day to\", \"Best wishes to\", \"Coo-ee\", \"Do have a good day\",...\".\n",
        "\n",
        "Then write code that goes through **listOfNames**, choosing the greeting that begins with the same letter, and print the greeting with the same first letter as the name; e.g. \"Best wishes to Beaker\".\n",
        "\n"
      ],
      "metadata": {
        "id": "BcOiQa3UPFy_"
      }
    },
    {
      "cell_type": "code",
      "source": [
        "listOfGreetings = [\"Aloha\",\n",
        "\"Bonjour\",\n",
        "\"Cheers\",\n",
        "\"Dear friend\",\n",
        "\"Everything good\",\n",
        "\"Felicitations\",\n",
        "\"Greetings\",\n",
        "\"Hello\",\n",
        "\"Incredible day to you\",\n",
        "\"Joyful day to you\",\n",
        "\"Konnichiwa\",\n",
        "\"Long time no see\",\n",
        "\"Merry greetings\",\n",
        "\"Namaste\",\n",
        "\"Oi\",\n",
        "\"Peace be with you\",\n",
        "\"Quirky hello\",\n",
        "\"Ray of sunshine\",\n",
        "\"Salutations\",\n",
        "\"Top of the morning\",\n",
        "\"Upside down hello\",\n",
        "\"V greetings\",\n",
        "\"What’s up\",\n",
        "\"Xtra special greetings\",\n",
        "\"Yonder hello\",\n",
        "\"Zesty greetings\"]"
      ],
      "metadata": {
        "id": "Cp9OVayuPFPr"
      },
      "execution_count": 14,
      "outputs": []
    },
    {
      "cell_type": "code",
      "source": [
        "for name in listOfNames:\n",
        "  firstLetterName = name[0]\n",
        "  for greeting in listOfGreetings:\n",
        "    firstLetterGreeting = greeting[0]\n",
        "    if firstLetterName == firstLetterGreeting:\n",
        "      chosenGreeting = greeting\n",
        "  print(f\"{chosenGreeting} {name}\")\n",
        ""
      ],
      "metadata": {
        "colab": {
          "base_uri": "https://localhost:8080/"
        },
        "id": "bTs0IxyyRY_6",
        "outputId": "75c34632-1bea-4237-eaa7-75c6ab645e02"
      },
      "execution_count": 15,
      "outputs": [
        {
          "output_type": "stream",
          "name": "stdout",
          "text": [
            "Bonjour Beaker\n",
            "Konnichiwa Kermit the Frog\n",
            "Felicitations Fozzie Bear\n",
            "Aloha Animal\n"
          ]
        }
      ]
    },
    {
      "cell_type": "markdown",
      "source": [
        "### Lab 2 Part 4: A Number-Guessing Game\n",
        "\n",
        "The aim of this exercise is to build a number-guessing game. The computer will generate a list of six numbers in the range 1-20, and the aim of the player is to guess the six numbers. There are various clues given to help the player to guess which numbers are in the list."
      ],
      "metadata": {
        "id": "xMua9JnyhG2e"
      }
    },
    {
      "cell_type": "markdown",
      "source": [
        "Here is a list of six numbers:"
      ],
      "metadata": {
        "id": "vkY-eCLCh3l5"
      }
    },
    {
      "cell_type": "code",
      "source": [
        "numbersToGuess = [5,2,6,12,17,13]"
      ],
      "metadata": {
        "id": "j-ItKXpuhrFv"
      },
      "execution_count": 16,
      "outputs": []
    },
    {
      "cell_type": "markdown",
      "source": [
        "In the next block, write one line of code that prints the numbers to the screen."
      ],
      "metadata": {
        "id": "eW_PLwjuiSmD"
      }
    },
    {
      "cell_type": "code",
      "source": [
        "print(numbersToGuess)"
      ],
      "metadata": {
        "id": "IATF6B9ph2y6",
        "colab": {
          "base_uri": "https://localhost:8080/"
        },
        "outputId": "24e63f96-9ce7-495f-a7f5-c36d895ab9e8"
      },
      "execution_count": 17,
      "outputs": [
        {
          "output_type": "stream",
          "name": "stdout",
          "text": [
            "[5, 2, 6, 12, 17, 13]\n"
          ]
        }
      ]
    },
    {
      "cell_type": "markdown",
      "source": [
        "Imagine that the player types the number 6. In the next block, using the keywords **if** and **in** write a couple of lines of code that check whether the number is in the list, and if so, prints the word \"correct\"."
      ],
      "metadata": {
        "id": "vjrLXzAlijoQ"
      }
    },
    {
      "cell_type": "code",
      "source": [
        "playerInput = 6\n",
        "\n",
        "if playerInput in numbersToGuess:\n",
        "  print(\"correct\")\n",
        "else:\n",
        "  print(\"incorrect\")"
      ],
      "metadata": {
        "id": "XWIvcugujEk_",
        "colab": {
          "base_uri": "https://localhost:8080/"
        },
        "outputId": "48810445-3ef3-4002-a63c-fb137afda32c"
      },
      "execution_count": 18,
      "outputs": [
        {
          "output_type": "stream",
          "name": "stdout",
          "text": [
            "correct\n"
          ]
        }
      ]
    },
    {
      "cell_type": "markdown",
      "source": [
        "The function **random.randint()** generates a random integer in a given range. It is part of the **random** module, so we need to use **import random** to tell Python that we will be using that module. For example, here is how we generate a random number in the range 1-20. This block is just an example, you do not need to add anything to it or change it."
      ],
      "metadata": {
        "id": "W0h-4J5Mjbas"
      }
    },
    {
      "cell_type": "code",
      "source": [
        "import random\n",
        "randomNumber = random.randint(1,20)\n",
        "print(randomNumber)"
      ],
      "metadata": {
        "id": "No_I7HQcjzFY",
        "colab": {
          "base_uri": "https://localhost:8080/"
        },
        "outputId": "1028de04-9351-45dc-f17e-d433c2acb10c"
      },
      "execution_count": 19,
      "outputs": [
        {
          "output_type": "stream",
          "name": "stdout",
          "text": [
            "7\n"
          ]
        }
      ]
    },
    {
      "cell_type": "markdown",
      "source": [
        "In the next block, use the **random.randint()** function, and a **for** loop to put six random numbers in the list **numbersToGuess**. So, instead of using a fixed list of numbers as we have been doing so far, a new list will be generated each time."
      ],
      "metadata": {
        "id": "fWta_9VAkVNB"
      }
    },
    {
      "cell_type": "code",
      "source": [
        "numbersToGuess =[]\n",
        "for number in range(6):\n",
        "  numbersToGuess.append(random.randint(1,20))\n",
        "print(numbersToGuess)"
      ],
      "metadata": {
        "id": "bWZq_bEUlJXs",
        "colab": {
          "base_uri": "https://localhost:8080/"
        },
        "outputId": "ba053f8f-04d5-4813-ad49-ee9310920d61"
      },
      "execution_count": 26,
      "outputs": [
        {
          "output_type": "stream",
          "name": "stdout",
          "text": [
            "[1, 5, 4, 9, 16, 12]\n"
          ]
        }
      ]
    },
    {
      "cell_type": "markdown",
      "source": [
        "The next block shows how to use the **input()** function to get a number from the user. This block is just an example, you do not need to add anything to it or change it."
      ],
      "metadata": {
        "id": "83PZ_CErlpK9"
      }
    },
    {
      "cell_type": "code",
      "source": [
        "myGuess = int(input(\"Guess a number: \"))\n",
        "print(myGuess)"
      ],
      "metadata": {
        "id": "K5sdXVgnmHfP",
        "colab": {
          "base_uri": "https://localhost:8080/"
        },
        "outputId": "2e9dede6-6584-4f12-93cf-f6acbc8db703"
      },
      "execution_count": 27,
      "outputs": [
        {
          "output_type": "stream",
          "name": "stdout",
          "text": [
            "Guess a number: 6\n",
            "6\n"
          ]
        }
      ]
    },
    {
      "cell_type": "markdown",
      "source": [
        "In the next block, use the **def** keyword to write a function called **makeAGuess** that takes as input a list of numbers, uses the **int(input())** function from the previous block to get a number from the user, and uses the **if**, **in**, **not** and **return** keywords to return the word \"correct\" if the number is in the list, otherwise it returns the word \"missing\""
      ],
      "metadata": {
        "id": "rBGnwul5mLyW"
      }
    },
    {
      "cell_type": "code",
      "source": [
        "def makeAGuess(listOfNumbers):\n",
        "  guess = int(input(\"Guess a number: \"))\n",
        "  if guess in listOfNumbers:\n",
        "    return 1\n",
        "  else:\n",
        "    return 0"
      ],
      "metadata": {
        "id": "r-fHjEBcnB05"
      },
      "execution_count": 28,
      "outputs": []
    },
    {
      "cell_type": "markdown",
      "source": [
        "Use the following code to check whether you have written the makeAGuess function correctly. Remember to test it both with examples from the list, and examples that are missing from the list."
      ],
      "metadata": {
        "id": "OwgW0sj3zfMK"
      }
    },
    {
      "cell_type": "code",
      "source": [
        "print(numbersToGuess)\n",
        "print(makeAGuess(numbersToGuess))"
      ],
      "metadata": {
        "id": "rf5OHqjdzurw",
        "colab": {
          "base_uri": "https://localhost:8080/"
        },
        "outputId": "ca38fc76-6a42-4342-e087-0c51d2223ca0"
      },
      "execution_count": 30,
      "outputs": [
        {
          "output_type": "stream",
          "name": "stdout",
          "text": [
            "[1, 5, 4, 9, 16, 12]\n",
            "Guess a number: 13\n",
            "0\n"
          ]
        }
      ]
    },
    {
      "cell_type": "markdown",
      "source": [
        "Now, we are going to give the player 10 attempts to guess the number. In the next block, write code to create a random list of numbers, write a **for** loop that repeats 10 times (remember that **range(10)** creates a list of 10 numbers), then uses **makeAGuess** to see if the number is in the list. If the guess is in the list, remove the number from the list (to do this, you will need to find out how use the **remove()** function). Finally, print out how many numbers the player didn't guess."
      ],
      "metadata": {
        "id": "P-VvKxm3zzkG"
      }
    },
    {
      "cell_type": "code",
      "source": [
        "def makeAGuess(listOfNumbers):\n",
        "  guess = int(input(\"Guess a number: \"))\n",
        "  if guess in listOfNumbers:\n",
        "    return (guess, 1)\n",
        "  else:\n",
        "    return (guess, 0)\n",
        "\n",
        "numbersRemaining = 6\n",
        "numbersToGuess = []\n",
        "for number in range(6):\n",
        "  numbersToGuess.append(random.randint(1,20))\n",
        "print(numbersToGuess)\n",
        "\n",
        "for i in range(10):\n",
        "  numbersRemaining = len(numbersToGuess)\n",
        "  if numbersRemaining == 0:\n",
        "    break\n",
        "  userGuess, guess = makeAGuess(numbersToGuess)\n",
        "  if guess == 1:\n",
        "    numbersToGuess.remove(userGuess)\n",
        "    print(\"Congrats! You guessed one of the numbers.\")\n",
        "    numbersRemaining = len(numbersToGuess)\n",
        "  elif guess == 0:\n",
        "    print(\"Better luck next time!\")\n",
        "  print(f\"You have {numbersRemaining} numbers left to guess and have used {i + 1}/10 guesses.\")\n",
        "\n",
        "if numbersRemaining == 0:\n",
        "  print(\"Congratulations on guessing all the numbers!\")\n",
        "else:\n",
        "  print(f\"Better luck next time, you didn't manage to guess {numbersRemaining} numbers.\")"
      ],
      "metadata": {
        "id": "girYPYzQ0P3g",
        "colab": {
          "base_uri": "https://localhost:8080/"
        },
        "outputId": "c8fd3d31-a791-4bc0-ca02-bd20669ad094"
      },
      "execution_count": 55,
      "outputs": [
        {
          "output_type": "stream",
          "name": "stdout",
          "text": [
            "[7, 10, 20, 12, 1, 4]\n",
            "Guess a number: 1\n",
            "Congrats! You guessed one of the numbers.\n",
            "You have 5 numbers left to guess and have used 1/10 guesses.\n",
            "Guess a number: 2\n",
            "Better luck next time!\n",
            "You have 5 numbers left to guess and have used 2/10 guesses.\n",
            "Guess a number: 3\n",
            "Better luck next time!\n",
            "You have 5 numbers left to guess and have used 3/10 guesses.\n",
            "Guess a number: 4\n",
            "Congrats! You guessed one of the numbers.\n",
            "You have 4 numbers left to guess and have used 4/10 guesses.\n",
            "Guess a number: 5\n",
            "Better luck next time!\n",
            "You have 4 numbers left to guess and have used 5/10 guesses.\n",
            "Guess a number: 6\n",
            "Better luck next time!\n",
            "You have 4 numbers left to guess and have used 6/10 guesses.\n",
            "Guess a number: 7\n",
            "Congrats! You guessed one of the numbers.\n",
            "You have 3 numbers left to guess and have used 7/10 guesses.\n",
            "Guess a number: 8\n",
            "Better luck next time!\n",
            "You have 3 numbers left to guess and have used 8/10 guesses.\n",
            "Guess a number: 9\n",
            "Better luck next time!\n",
            "You have 3 numbers left to guess and have used 9/10 guesses.\n",
            "Guess a number: 10\n",
            "Congrats! You guessed one of the numbers.\n",
            "You have 2 numbers left to guess and have used 10/10 guesses.\n",
            "Better luck next time, you didn't manage to guess 2 numbers.\n"
          ]
        }
      ]
    },
    {
      "cell_type": "markdown",
      "source": [
        "**More challenging:** Define a function nextTo(guess, listOfNumbers) which takes a guess number and a list of numbers, and returns \"nearby\" if one or more of the numbers in listOfNumbers is next to the guess by 1. Otherwise, it returns \"not found\". So, for example, if the list was [3,7,14] and the guess was 4, it would return \"nearby\", because 4 is 3+1, whereas if the guess was 11, it would return. \"not found\" because the nearby numbers to 11 are 10 and 12, neither of which is in the list. This is a more advanced exercise, I am not expecting everyone to get this far."
      ],
      "metadata": {
        "id": "2RA7YbzPDjw-"
      }
    },
    {
      "cell_type": "code",
      "source": [
        "## insert your code here"
      ],
      "metadata": {
        "id": "h6xgmroMEKVi"
      },
      "execution_count": null,
      "outputs": []
    },
    {
      "cell_type": "markdown",
      "source": [
        "**More challenging:** Now, use this **nextTo** function to change the game, so that the game gives a clue to the user to say whether their guess was next to one of the remaining numbers or not. This is a more advanced exercise, I am not expecting everyone to get this far."
      ],
      "metadata": {
        "id": "krAOhIM7FGMM"
      }
    },
    {
      "cell_type": "code",
      "source": [
        "## insert your code here"
      ],
      "metadata": {
        "id": "cFhtLGsMFeSs"
      },
      "execution_count": null,
      "outputs": []
    },
    {
      "cell_type": "markdown",
      "source": [
        "**Extensions:** If you have found the above exercises straightforward, here are a number of extensions that you can implement during the lab or in your own time. These are challenging, and I would not expect most students to be doing these.\n",
        "\n",
        "The main area where you can improve the game is by giving additional clues to the player. For example:\n",
        "*   Giving the user the average of the numbers in the list\n",
        "*   Giving the user some indication of the ranges in which the numbers in the list sit \"there are 3 numbers in the range 1-5, none in the range 6-10, 1 in the range 11-15,...\"\n",
        "*   Giving the user a list of the digits in the numbers, but shuffled together: so, if the list was [34,62,14] the user would be given a clue such as 612443.\n",
        "*   Giving the user an anagram of one of the numbers in words. This is particularly challenging\n",
        "\n",
        "You might also investigate giving the user more feedback on wrong guesses:\n",
        "*   \"3 of the numbers in the list are higher than your guess, and 2 lower\"\n",
        "\n",
        "\n"
      ],
      "metadata": {
        "id": "8jFDFM3t3Xl5"
      }
    }
  ]
}